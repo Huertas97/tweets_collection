{
 "cells": [
  {
   "cell_type": "code",
   "execution_count": 4,
   "metadata": {},
   "outputs": [
    {
     "name": "stdout",
     "output_type": "stream",
     "text": [
      "^C\r\n",
      "\u001b[31mERROR: Operation cancelled by user\u001b[0m\r\n"
     ]
    }
   ],
   "source": [
    "# !pip install -U -q tweepy\n",
    "# !pip install -U -q emoji\n",
    "# !pip install -U -q pydrive\n",
    "# !pip install -U -q google.colab"
   ]
  },
  {
   "cell_type": "code",
   "execution_count": 14,
   "metadata": {},
   "outputs": [],
   "source": [
    "import tweepy\n",
    "import pandas as pd\n",
    "import json\n",
    "from requests_oauthlib import OAuth1Session\n",
    "import time\n",
    "from datetime import date\n",
    "import emoji"
   ]
  },
  {
   "cell_type": "code",
   "execution_count": 6,
   "metadata": {},
   "outputs": [],
   "source": [
    "api_key = \"h50aoVmiuNFuHI8o3dZE7C15N\" \n",
    "api_secret_key = \"Dz6jeUBUdGp43uJugObOgIqnVdCbUrbrkwkcjAibmlDQwq6sdL\" \n",
    "access_token = \"1311739853307027457-HqUEzNSGtzdFqkFDFmdYg5UcMEjPv2\" \n",
    "access_token_secret = \"iabmz6wZ0gucIodSNJ9TfSfnrT17yJXjDAu13y4QF8hLI\" "
   ]
  },
  {
   "cell_type": "code",
   "execution_count": 7,
   "metadata": {},
   "outputs": [],
   "source": [
    "twitter = OAuth1Session(api_key,\n",
    "                        client_secret=api_secret_key,\n",
    "                        resource_owner_key=access_token,\n",
    "                        resource_owner_secret=access_token_secret)\n",
    "\n",
    "auth = tweepy.OAuthHandler(api_key, api_secret_key)\n",
    "auth.set_access_token(access_token, access_token_secret)\n",
    "api = tweepy.API(auth,wait_on_rate_limit=True)"
   ]
  },
  {
   "cell_type": "code",
   "execution_count": 18,
   "metadata": {},
   "outputs": [],
   "source": [
    "# username = 'malditobulo' No__Plandemia Solo__Verdad ANTIMASCARILLA FoxMuld88326271 #Plandemia SaludPublicaEs sanidadgob eldiarioes andaluciadatos\n",
    "# maldita_ciencia opsoms bbcmundo Chequeado JustiaLatinAmer 14ymedio PericoAFuego DiegoMo53772865 WHO el_pais\n",
    "count = 2\n",
    "language = \"es\"\n",
    "user_name = \"maldita_ciencia\"\n",
    "text_query = \"from:\"+user_name  #  -filter:retweets\n",
    "\n",
    "\n",
    "try:     \n",
    "    # Creation of query method using parameters\n",
    "    tweets = tweepy.Cursor(api.search,\n",
    "                        q = text_query ,\n",
    "                        lang = language).items(count)\n",
    "\n",
    "    # Pulling information from tweets iterable object\n",
    "    tweets_list = [[tweet.user.screen_name,\n",
    "                 tweet.text,\n",
    "                 tweet.user.verified,  \n",
    "                 tweet.created_at, \n",
    "                 tweet.id, \n",
    "                 tweet.user.location,\n",
    "                 tweet.user.url\n",
    "                 ] for tweet in tweets]\n",
    "    # Creation of dataframe from tweets list\n",
    "    # Add or remove columns as you remove tweet information\n",
    "    tweets_df = pd.DataFrame(tweets_list, columns = [\"screen_name\", \n",
    "                                                  \"text\", \"user_verified\", \n",
    "                                                  \"created_at\", \"tweet_id\", \n",
    "                                                  \"user_location\", \"user_url\"])\n",
    "\n",
    "except BaseException as e:\n",
    "    print('failed on_status,',str(e))\n",
    "    time.sleep(3)\n",
    "\n",
    "tweets_df[\"text\"] = tweets_df[\"text\"].apply(emoji.demojize)\n",
    "\n",
    "from datetime import date\n",
    "today = date.today()\n",
    "\n",
    "file_name = user_name+\"-\"+str(today)+\".json\"\n",
    "tweets_df.to_json(file_name)"
   ]
  },
  {
   "cell_type": "code",
   "execution_count": 19,
   "metadata": {},
   "outputs": [
    {
     "data": {
      "text/html": [
       "<div>\n",
       "<style scoped>\n",
       "    .dataframe tbody tr th:only-of-type {\n",
       "        vertical-align: middle;\n",
       "    }\n",
       "\n",
       "    .dataframe tbody tr th {\n",
       "        vertical-align: top;\n",
       "    }\n",
       "\n",
       "    .dataframe thead th {\n",
       "        text-align: right;\n",
       "    }\n",
       "</style>\n",
       "<table border=\"1\" class=\"dataframe\">\n",
       "  <thead>\n",
       "    <tr style=\"text-align: right;\">\n",
       "      <th></th>\n",
       "      <th>screen_name</th>\n",
       "      <th>text</th>\n",
       "      <th>user_verified</th>\n",
       "      <th>created_at</th>\n",
       "      <th>tweet_id</th>\n",
       "      <th>user_location</th>\n",
       "      <th>user_url</th>\n",
       "    </tr>\n",
       "  </thead>\n",
       "  <tbody>\n",
       "    <tr>\n",
       "      <th>0</th>\n",
       "      <td>maldita_ciencia</td>\n",
       "      <td>RT @maldita_es: En @MalditaTech  te explicamos...</td>\n",
       "      <td>True</td>\n",
       "      <td>2020-10-03 10:07:27</td>\n",
       "      <td>1312333433000128513</td>\n",
       "      <td></td>\n",
       "      <td>https://t.co/cUENoJpOk2</td>\n",
       "    </tr>\n",
       "    <tr>\n",
       "      <th>1</th>\n",
       "      <td>maldita_ciencia</td>\n",
       "      <td>RT @malditobulo: Estamos en Twitter, Facebook,...</td>\n",
       "      <td>True</td>\n",
       "      <td>2020-10-03 10:07:10</td>\n",
       "      <td>1312333363710251008</td>\n",
       "      <td></td>\n",
       "      <td>https://t.co/cUENoJpOk2</td>\n",
       "    </tr>\n",
       "  </tbody>\n",
       "</table>\n",
       "</div>"
      ],
      "text/plain": [
       "       screen_name                                               text  \\\n",
       "0  maldita_ciencia  RT @maldita_es: En @MalditaTech  te explicamos...   \n",
       "1  maldita_ciencia  RT @malditobulo: Estamos en Twitter, Facebook,...   \n",
       "\n",
       "   user_verified          created_at             tweet_id user_location  \\\n",
       "0           True 2020-10-03 10:07:27  1312333433000128513                 \n",
       "1           True 2020-10-03 10:07:10  1312333363710251008                 \n",
       "\n",
       "                  user_url  \n",
       "0  https://t.co/cUENoJpOk2  \n",
       "1  https://t.co/cUENoJpOk2  "
      ]
     },
     "execution_count": 19,
     "metadata": {},
     "output_type": "execute_result"
    }
   ],
   "source": [
    "tweets_df"
   ]
  },
  {
   "cell_type": "code",
   "execution_count": 23,
   "metadata": {},
   "outputs": [
    {
     "name": "stdout",
     "output_type": "stream",
     "text": [
      " README.md  'Tweets&Summarization.ipynb'   Tweet_wrapper.ipynb\r\n"
     ]
    }
   ],
   "source": [
    "!ls\n"
   ]
  }
 ],
 "metadata": {
  "kernelspec": {
   "display_name": "Python 3",
   "language": "python",
   "name": "python3"
  },
  "language_info": {
   "codemirror_mode": {
    "name": "ipython",
    "version": 3
   },
   "file_extension": ".py",
   "mimetype": "text/x-python",
   "name": "python",
   "nbconvert_exporter": "python",
   "pygments_lexer": "ipython3",
   "version": "3.8.3"
  }
 },
 "nbformat": 4,
 "nbformat_minor": 4
}
