{
  "nbformat": 4,
  "nbformat_minor": 0,
  "metadata": {
    "colab": {
      "name": "Tweets&Summarization.ipynb",
      "provenance": [],
      "toc_visible": true,
      "authorship_tag": "ABX9TyN8BotGB/jhIy55AvvyVNXO",
      "include_colab_link": true
    },
    "kernelspec": {
      "name": "python3",
      "display_name": "Python 3"
    },
    "widgets": {
      "application/vnd.jupyter.widget-state+json": {
        "92a22dd143624fc7bc2a6157d6258f39": {
          "model_module": "@jupyter-widgets/controls",
          "model_name": "HBoxModel",
          "state": {
            "_view_name": "HBoxView",
            "_dom_classes": [],
            "_model_name": "HBoxModel",
            "_view_module": "@jupyter-widgets/controls",
            "_model_module_version": "1.5.0",
            "_view_count": null,
            "_view_module_version": "1.5.0",
            "box_style": "",
            "layout": "IPY_MODEL_b484b248c80f43c2ae3186b2537043de",
            "_model_module": "@jupyter-widgets/controls",
            "children": [
              "IPY_MODEL_1443b8be876c4fed8401b6d4e6a1ba1d",
              "IPY_MODEL_edfc9889b3fe44a89de4b16f1dc80ad4"
            ]
          }
        },
        "b484b248c80f43c2ae3186b2537043de": {
          "model_module": "@jupyter-widgets/base",
          "model_name": "LayoutModel",
          "state": {
            "_view_name": "LayoutView",
            "grid_template_rows": null,
            "right": null,
            "justify_content": null,
            "_view_module": "@jupyter-widgets/base",
            "overflow": null,
            "_model_module_version": "1.2.0",
            "_view_count": null,
            "flex_flow": null,
            "width": null,
            "min_width": null,
            "border": null,
            "align_items": null,
            "bottom": null,
            "_model_module": "@jupyter-widgets/base",
            "top": null,
            "grid_column": null,
            "overflow_y": null,
            "overflow_x": null,
            "grid_auto_flow": null,
            "grid_area": null,
            "grid_template_columns": null,
            "flex": null,
            "_model_name": "LayoutModel",
            "justify_items": null,
            "grid_row": null,
            "max_height": null,
            "align_content": null,
            "visibility": null,
            "align_self": null,
            "height": null,
            "min_height": null,
            "padding": null,
            "grid_auto_rows": null,
            "grid_gap": null,
            "max_width": null,
            "order": null,
            "_view_module_version": "1.2.0",
            "grid_template_areas": null,
            "object_position": null,
            "object_fit": null,
            "grid_auto_columns": null,
            "margin": null,
            "display": null,
            "left": null
          }
        },
        "1443b8be876c4fed8401b6d4e6a1ba1d": {
          "model_module": "@jupyter-widgets/controls",
          "model_name": "FloatProgressModel",
          "state": {
            "_view_name": "ProgressView",
            "style": "IPY_MODEL_613e7c4de5e54cf5b467f26030a32c36",
            "_dom_classes": [],
            "description": "Downloading: 100%",
            "_model_name": "FloatProgressModel",
            "bar_style": "success",
            "max": 434,
            "_view_module": "@jupyter-widgets/controls",
            "_model_module_version": "1.5.0",
            "value": 434,
            "_view_count": null,
            "_view_module_version": "1.5.0",
            "orientation": "horizontal",
            "min": 0,
            "description_tooltip": null,
            "_model_module": "@jupyter-widgets/controls",
            "layout": "IPY_MODEL_661082081345459d894848c4e8562f2b"
          }
        },
        "edfc9889b3fe44a89de4b16f1dc80ad4": {
          "model_module": "@jupyter-widgets/controls",
          "model_name": "HTMLModel",
          "state": {
            "_view_name": "HTMLView",
            "style": "IPY_MODEL_0a9898067df644fc95d3665727865fdb",
            "_dom_classes": [],
            "description": "",
            "_model_name": "HTMLModel",
            "placeholder": "​",
            "_view_module": "@jupyter-widgets/controls",
            "_model_module_version": "1.5.0",
            "value": " 434/434 [00:00&lt;00:00, 1.35kB/s]",
            "_view_count": null,
            "_view_module_version": "1.5.0",
            "description_tooltip": null,
            "_model_module": "@jupyter-widgets/controls",
            "layout": "IPY_MODEL_fcfb8ab29a904e7aad510b6fb049c188"
          }
        },
        "613e7c4de5e54cf5b467f26030a32c36": {
          "model_module": "@jupyter-widgets/controls",
          "model_name": "ProgressStyleModel",
          "state": {
            "_view_name": "StyleView",
            "_model_name": "ProgressStyleModel",
            "description_width": "initial",
            "_view_module": "@jupyter-widgets/base",
            "_model_module_version": "1.5.0",
            "_view_count": null,
            "_view_module_version": "1.2.0",
            "bar_color": null,
            "_model_module": "@jupyter-widgets/controls"
          }
        },
        "661082081345459d894848c4e8562f2b": {
          "model_module": "@jupyter-widgets/base",
          "model_name": "LayoutModel",
          "state": {
            "_view_name": "LayoutView",
            "grid_template_rows": null,
            "right": null,
            "justify_content": null,
            "_view_module": "@jupyter-widgets/base",
            "overflow": null,
            "_model_module_version": "1.2.0",
            "_view_count": null,
            "flex_flow": null,
            "width": null,
            "min_width": null,
            "border": null,
            "align_items": null,
            "bottom": null,
            "_model_module": "@jupyter-widgets/base",
            "top": null,
            "grid_column": null,
            "overflow_y": null,
            "overflow_x": null,
            "grid_auto_flow": null,
            "grid_area": null,
            "grid_template_columns": null,
            "flex": null,
            "_model_name": "LayoutModel",
            "justify_items": null,
            "grid_row": null,
            "max_height": null,
            "align_content": null,
            "visibility": null,
            "align_self": null,
            "height": null,
            "min_height": null,
            "padding": null,
            "grid_auto_rows": null,
            "grid_gap": null,
            "max_width": null,
            "order": null,
            "_view_module_version": "1.2.0",
            "grid_template_areas": null,
            "object_position": null,
            "object_fit": null,
            "grid_auto_columns": null,
            "margin": null,
            "display": null,
            "left": null
          }
        },
        "0a9898067df644fc95d3665727865fdb": {
          "model_module": "@jupyter-widgets/controls",
          "model_name": "DescriptionStyleModel",
          "state": {
            "_view_name": "StyleView",
            "_model_name": "DescriptionStyleModel",
            "description_width": "",
            "_view_module": "@jupyter-widgets/base",
            "_model_module_version": "1.5.0",
            "_view_count": null,
            "_view_module_version": "1.2.0",
            "_model_module": "@jupyter-widgets/controls"
          }
        },
        "fcfb8ab29a904e7aad510b6fb049c188": {
          "model_module": "@jupyter-widgets/base",
          "model_name": "LayoutModel",
          "state": {
            "_view_name": "LayoutView",
            "grid_template_rows": null,
            "right": null,
            "justify_content": null,
            "_view_module": "@jupyter-widgets/base",
            "overflow": null,
            "_model_module_version": "1.2.0",
            "_view_count": null,
            "flex_flow": null,
            "width": null,
            "min_width": null,
            "border": null,
            "align_items": null,
            "bottom": null,
            "_model_module": "@jupyter-widgets/base",
            "top": null,
            "grid_column": null,
            "overflow_y": null,
            "overflow_x": null,
            "grid_auto_flow": null,
            "grid_area": null,
            "grid_template_columns": null,
            "flex": null,
            "_model_name": "LayoutModel",
            "justify_items": null,
            "grid_row": null,
            "max_height": null,
            "align_content": null,
            "visibility": null,
            "align_self": null,
            "height": null,
            "min_height": null,
            "padding": null,
            "grid_auto_rows": null,
            "grid_gap": null,
            "max_width": null,
            "order": null,
            "_view_module_version": "1.2.0",
            "grid_template_areas": null,
            "object_position": null,
            "object_fit": null,
            "grid_auto_columns": null,
            "margin": null,
            "display": null,
            "left": null
          }
        },
        "3f144fb55a164642a2c871d684734cd2": {
          "model_module": "@jupyter-widgets/controls",
          "model_name": "HBoxModel",
          "state": {
            "_view_name": "HBoxView",
            "_dom_classes": [],
            "_model_name": "HBoxModel",
            "_view_module": "@jupyter-widgets/controls",
            "_model_module_version": "1.5.0",
            "_view_count": null,
            "_view_module_version": "1.5.0",
            "box_style": "",
            "layout": "IPY_MODEL_56ca79f18740433ab04ac84710b643fc",
            "_model_module": "@jupyter-widgets/controls",
            "children": [
              "IPY_MODEL_c36aad4b5151436c912d7ef11d8ef004",
              "IPY_MODEL_f36232769f624e4caec24a95cc9bd34b"
            ]
          }
        },
        "56ca79f18740433ab04ac84710b643fc": {
          "model_module": "@jupyter-widgets/base",
          "model_name": "LayoutModel",
          "state": {
            "_view_name": "LayoutView",
            "grid_template_rows": null,
            "right": null,
            "justify_content": null,
            "_view_module": "@jupyter-widgets/base",
            "overflow": null,
            "_model_module_version": "1.2.0",
            "_view_count": null,
            "flex_flow": null,
            "width": null,
            "min_width": null,
            "border": null,
            "align_items": null,
            "bottom": null,
            "_model_module": "@jupyter-widgets/base",
            "top": null,
            "grid_column": null,
            "overflow_y": null,
            "overflow_x": null,
            "grid_auto_flow": null,
            "grid_area": null,
            "grid_template_columns": null,
            "flex": null,
            "_model_name": "LayoutModel",
            "justify_items": null,
            "grid_row": null,
            "max_height": null,
            "align_content": null,
            "visibility": null,
            "align_self": null,
            "height": null,
            "min_height": null,
            "padding": null,
            "grid_auto_rows": null,
            "grid_gap": null,
            "max_width": null,
            "order": null,
            "_view_module_version": "1.2.0",
            "grid_template_areas": null,
            "object_position": null,
            "object_fit": null,
            "grid_auto_columns": null,
            "margin": null,
            "display": null,
            "left": null
          }
        },
        "c36aad4b5151436c912d7ef11d8ef004": {
          "model_module": "@jupyter-widgets/controls",
          "model_name": "FloatProgressModel",
          "state": {
            "_view_name": "ProgressView",
            "style": "IPY_MODEL_9f45e43f981b405b9c29f1181309fb03",
            "_dom_classes": [],
            "description": "Downloading: 100%",
            "_model_name": "FloatProgressModel",
            "bar_style": "success",
            "max": 1344997306,
            "_view_module": "@jupyter-widgets/controls",
            "_model_module_version": "1.5.0",
            "value": 1344997306,
            "_view_count": null,
            "_view_module_version": "1.5.0",
            "orientation": "horizontal",
            "min": 0,
            "description_tooltip": null,
            "_model_module": "@jupyter-widgets/controls",
            "layout": "IPY_MODEL_75709756dea34b02976c9ace38c91b50"
          }
        },
        "f36232769f624e4caec24a95cc9bd34b": {
          "model_module": "@jupyter-widgets/controls",
          "model_name": "HTMLModel",
          "state": {
            "_view_name": "HTMLView",
            "style": "IPY_MODEL_20551fb9674c4de5aaf76ca2cae2f249",
            "_dom_classes": [],
            "description": "",
            "_model_name": "HTMLModel",
            "placeholder": "​",
            "_view_module": "@jupyter-widgets/controls",
            "_model_module_version": "1.5.0",
            "value": " 1.34G/1.34G [00:43&lt;00:00, 31.3MB/s]",
            "_view_count": null,
            "_view_module_version": "1.5.0",
            "description_tooltip": null,
            "_model_module": "@jupyter-widgets/controls",
            "layout": "IPY_MODEL_00e9f0677a974ddaabcc7dc7c6de51eb"
          }
        },
        "9f45e43f981b405b9c29f1181309fb03": {
          "model_module": "@jupyter-widgets/controls",
          "model_name": "ProgressStyleModel",
          "state": {
            "_view_name": "StyleView",
            "_model_name": "ProgressStyleModel",
            "description_width": "initial",
            "_view_module": "@jupyter-widgets/base",
            "_model_module_version": "1.5.0",
            "_view_count": null,
            "_view_module_version": "1.2.0",
            "bar_color": null,
            "_model_module": "@jupyter-widgets/controls"
          }
        },
        "75709756dea34b02976c9ace38c91b50": {
          "model_module": "@jupyter-widgets/base",
          "model_name": "LayoutModel",
          "state": {
            "_view_name": "LayoutView",
            "grid_template_rows": null,
            "right": null,
            "justify_content": null,
            "_view_module": "@jupyter-widgets/base",
            "overflow": null,
            "_model_module_version": "1.2.0",
            "_view_count": null,
            "flex_flow": null,
            "width": null,
            "min_width": null,
            "border": null,
            "align_items": null,
            "bottom": null,
            "_model_module": "@jupyter-widgets/base",
            "top": null,
            "grid_column": null,
            "overflow_y": null,
            "overflow_x": null,
            "grid_auto_flow": null,
            "grid_area": null,
            "grid_template_columns": null,
            "flex": null,
            "_model_name": "LayoutModel",
            "justify_items": null,
            "grid_row": null,
            "max_height": null,
            "align_content": null,
            "visibility": null,
            "align_self": null,
            "height": null,
            "min_height": null,
            "padding": null,
            "grid_auto_rows": null,
            "grid_gap": null,
            "max_width": null,
            "order": null,
            "_view_module_version": "1.2.0",
            "grid_template_areas": null,
            "object_position": null,
            "object_fit": null,
            "grid_auto_columns": null,
            "margin": null,
            "display": null,
            "left": null
          }
        },
        "20551fb9674c4de5aaf76ca2cae2f249": {
          "model_module": "@jupyter-widgets/controls",
          "model_name": "DescriptionStyleModel",
          "state": {
            "_view_name": "StyleView",
            "_model_name": "DescriptionStyleModel",
            "description_width": "",
            "_view_module": "@jupyter-widgets/base",
            "_model_module_version": "1.5.0",
            "_view_count": null,
            "_view_module_version": "1.2.0",
            "_model_module": "@jupyter-widgets/controls"
          }
        },
        "00e9f0677a974ddaabcc7dc7c6de51eb": {
          "model_module": "@jupyter-widgets/base",
          "model_name": "LayoutModel",
          "state": {
            "_view_name": "LayoutView",
            "grid_template_rows": null,
            "right": null,
            "justify_content": null,
            "_view_module": "@jupyter-widgets/base",
            "overflow": null,
            "_model_module_version": "1.2.0",
            "_view_count": null,
            "flex_flow": null,
            "width": null,
            "min_width": null,
            "border": null,
            "align_items": null,
            "bottom": null,
            "_model_module": "@jupyter-widgets/base",
            "top": null,
            "grid_column": null,
            "overflow_y": null,
            "overflow_x": null,
            "grid_auto_flow": null,
            "grid_area": null,
            "grid_template_columns": null,
            "flex": null,
            "_model_name": "LayoutModel",
            "justify_items": null,
            "grid_row": null,
            "max_height": null,
            "align_content": null,
            "visibility": null,
            "align_self": null,
            "height": null,
            "min_height": null,
            "padding": null,
            "grid_auto_rows": null,
            "grid_gap": null,
            "max_width": null,
            "order": null,
            "_view_module_version": "1.2.0",
            "grid_template_areas": null,
            "object_position": null,
            "object_fit": null,
            "grid_auto_columns": null,
            "margin": null,
            "display": null,
            "left": null
          }
        },
        "411987eff5274507ad995819ad47292c": {
          "model_module": "@jupyter-widgets/controls",
          "model_name": "HBoxModel",
          "state": {
            "_view_name": "HBoxView",
            "_dom_classes": [],
            "_model_name": "HBoxModel",
            "_view_module": "@jupyter-widgets/controls",
            "_model_module_version": "1.5.0",
            "_view_count": null,
            "_view_module_version": "1.5.0",
            "box_style": "",
            "layout": "IPY_MODEL_3384c30769c74fd4a1a62e375f8b5b30",
            "_model_module": "@jupyter-widgets/controls",
            "children": [
              "IPY_MODEL_c7907c16b87b4d459a90c443d7136758",
              "IPY_MODEL_e72a8ab68e1e46cfb26c2d81200030a4"
            ]
          }
        },
        "3384c30769c74fd4a1a62e375f8b5b30": {
          "model_module": "@jupyter-widgets/base",
          "model_name": "LayoutModel",
          "state": {
            "_view_name": "LayoutView",
            "grid_template_rows": null,
            "right": null,
            "justify_content": null,
            "_view_module": "@jupyter-widgets/base",
            "overflow": null,
            "_model_module_version": "1.2.0",
            "_view_count": null,
            "flex_flow": null,
            "width": null,
            "min_width": null,
            "border": null,
            "align_items": null,
            "bottom": null,
            "_model_module": "@jupyter-widgets/base",
            "top": null,
            "grid_column": null,
            "overflow_y": null,
            "overflow_x": null,
            "grid_auto_flow": null,
            "grid_area": null,
            "grid_template_columns": null,
            "flex": null,
            "_model_name": "LayoutModel",
            "justify_items": null,
            "grid_row": null,
            "max_height": null,
            "align_content": null,
            "visibility": null,
            "align_self": null,
            "height": null,
            "min_height": null,
            "padding": null,
            "grid_auto_rows": null,
            "grid_gap": null,
            "max_width": null,
            "order": null,
            "_view_module_version": "1.2.0",
            "grid_template_areas": null,
            "object_position": null,
            "object_fit": null,
            "grid_auto_columns": null,
            "margin": null,
            "display": null,
            "left": null
          }
        },
        "c7907c16b87b4d459a90c443d7136758": {
          "model_module": "@jupyter-widgets/controls",
          "model_name": "FloatProgressModel",
          "state": {
            "_view_name": "ProgressView",
            "style": "IPY_MODEL_27c5fbfa96c04327bdab51b4fbd61191",
            "_dom_classes": [],
            "description": "Downloading: 100%",
            "_model_name": "FloatProgressModel",
            "bar_style": "success",
            "max": 231508,
            "_view_module": "@jupyter-widgets/controls",
            "_model_module_version": "1.5.0",
            "value": 231508,
            "_view_count": null,
            "_view_module_version": "1.5.0",
            "orientation": "horizontal",
            "min": 0,
            "description_tooltip": null,
            "_model_module": "@jupyter-widgets/controls",
            "layout": "IPY_MODEL_0476c6afffcc4f9183dcb9f6a639ec7f"
          }
        },
        "e72a8ab68e1e46cfb26c2d81200030a4": {
          "model_module": "@jupyter-widgets/controls",
          "model_name": "HTMLModel",
          "state": {
            "_view_name": "HTMLView",
            "style": "IPY_MODEL_1313fe647deb48c8b5d0e0428e263129",
            "_dom_classes": [],
            "description": "",
            "_model_name": "HTMLModel",
            "placeholder": "​",
            "_view_module": "@jupyter-widgets/controls",
            "_model_module_version": "1.5.0",
            "value": " 232k/232k [00:00&lt;00:00, 2.15MB/s]",
            "_view_count": null,
            "_view_module_version": "1.5.0",
            "description_tooltip": null,
            "_model_module": "@jupyter-widgets/controls",
            "layout": "IPY_MODEL_3ccd2dd1c12b44a0aac6bc8dca45437e"
          }
        },
        "27c5fbfa96c04327bdab51b4fbd61191": {
          "model_module": "@jupyter-widgets/controls",
          "model_name": "ProgressStyleModel",
          "state": {
            "_view_name": "StyleView",
            "_model_name": "ProgressStyleModel",
            "description_width": "initial",
            "_view_module": "@jupyter-widgets/base",
            "_model_module_version": "1.5.0",
            "_view_count": null,
            "_view_module_version": "1.2.0",
            "bar_color": null,
            "_model_module": "@jupyter-widgets/controls"
          }
        },
        "0476c6afffcc4f9183dcb9f6a639ec7f": {
          "model_module": "@jupyter-widgets/base",
          "model_name": "LayoutModel",
          "state": {
            "_view_name": "LayoutView",
            "grid_template_rows": null,
            "right": null,
            "justify_content": null,
            "_view_module": "@jupyter-widgets/base",
            "overflow": null,
            "_model_module_version": "1.2.0",
            "_view_count": null,
            "flex_flow": null,
            "width": null,
            "min_width": null,
            "border": null,
            "align_items": null,
            "bottom": null,
            "_model_module": "@jupyter-widgets/base",
            "top": null,
            "grid_column": null,
            "overflow_y": null,
            "overflow_x": null,
            "grid_auto_flow": null,
            "grid_area": null,
            "grid_template_columns": null,
            "flex": null,
            "_model_name": "LayoutModel",
            "justify_items": null,
            "grid_row": null,
            "max_height": null,
            "align_content": null,
            "visibility": null,
            "align_self": null,
            "height": null,
            "min_height": null,
            "padding": null,
            "grid_auto_rows": null,
            "grid_gap": null,
            "max_width": null,
            "order": null,
            "_view_module_version": "1.2.0",
            "grid_template_areas": null,
            "object_position": null,
            "object_fit": null,
            "grid_auto_columns": null,
            "margin": null,
            "display": null,
            "left": null
          }
        },
        "1313fe647deb48c8b5d0e0428e263129": {
          "model_module": "@jupyter-widgets/controls",
          "model_name": "DescriptionStyleModel",
          "state": {
            "_view_name": "StyleView",
            "_model_name": "DescriptionStyleModel",
            "description_width": "",
            "_view_module": "@jupyter-widgets/base",
            "_model_module_version": "1.5.0",
            "_view_count": null,
            "_view_module_version": "1.2.0",
            "_model_module": "@jupyter-widgets/controls"
          }
        },
        "3ccd2dd1c12b44a0aac6bc8dca45437e": {
          "model_module": "@jupyter-widgets/base",
          "model_name": "LayoutModel",
          "state": {
            "_view_name": "LayoutView",
            "grid_template_rows": null,
            "right": null,
            "justify_content": null,
            "_view_module": "@jupyter-widgets/base",
            "overflow": null,
            "_model_module_version": "1.2.0",
            "_view_count": null,
            "flex_flow": null,
            "width": null,
            "min_width": null,
            "border": null,
            "align_items": null,
            "bottom": null,
            "_model_module": "@jupyter-widgets/base",
            "top": null,
            "grid_column": null,
            "overflow_y": null,
            "overflow_x": null,
            "grid_auto_flow": null,
            "grid_area": null,
            "grid_template_columns": null,
            "flex": null,
            "_model_name": "LayoutModel",
            "justify_items": null,
            "grid_row": null,
            "max_height": null,
            "align_content": null,
            "visibility": null,
            "align_self": null,
            "height": null,
            "min_height": null,
            "padding": null,
            "grid_auto_rows": null,
            "grid_gap": null,
            "max_width": null,
            "order": null,
            "_view_module_version": "1.2.0",
            "grid_template_areas": null,
            "object_position": null,
            "object_fit": null,
            "grid_auto_columns": null,
            "margin": null,
            "display": null,
            "left": null
          }
        }
      }
    }
  },
  "cells": [
    {
      "cell_type": "markdown",
      "metadata": {
        "id": "view-in-github",
        "colab_type": "text"
      },
      "source": [
        "<a href=\"https://colab.research.google.com/github/Huertas97/tweets_collection/blob/main/Tweets%26Summarization.ipynb\" target=\"_parent\"><img src=\"https://colab.research.google.com/assets/colab-badge.svg\" alt=\"Open In Colab\"/></a>"
      ]
    },
    {
      "cell_type": "code",
      "metadata": {
        "id": "guvzXhW4oCJe",
        "outputId": "6143f01f-bd94-4459-8889-31f61a128860",
        "colab": {
          "base_uri": "https://localhost:8080/",
          "height": 183
        }
      },
      "source": [
        "!pip install GetOldTweets3"
      ],
      "execution_count": null,
      "outputs": [
        {
          "output_type": "stream",
          "text": [
            "Collecting GetOldTweets3\n",
            "  Downloading https://files.pythonhosted.org/packages/ed/f4/a00c2a7c90801abc875325bb5416ce9090ac86d06a00cc887131bd73ba45/GetOldTweets3-0.0.11-py3-none-any.whl\n",
            "Collecting pyquery>=1.2.10\n",
            "  Downloading https://files.pythonhosted.org/packages/78/43/95d42e386c61cb639d1a0b94f0c0b9f0b7d6b981ad3c043a836c8b5bc68b/pyquery-1.4.1-py2.py3-none-any.whl\n",
            "Requirement already satisfied: lxml>=3.5.0 in /usr/local/lib/python3.6/dist-packages (from GetOldTweets3) (4.2.6)\n",
            "Collecting cssselect>0.7.9\n",
            "  Downloading https://files.pythonhosted.org/packages/3b/d4/3b5c17f00cce85b9a1e6f91096e1cc8e8ede2e1be8e96b87ce1ed09e92c5/cssselect-1.1.0-py2.py3-none-any.whl\n",
            "Installing collected packages: cssselect, pyquery, GetOldTweets3\n",
            "Successfully installed GetOldTweets3-0.0.11 cssselect-1.1.0 pyquery-1.4.1\n"
          ],
          "name": "stdout"
        }
      ]
    },
    {
      "cell_type": "code",
      "metadata": {
        "id": "yQoeDbpCjtvO"
      },
      "source": [
        "import GetOldTweets3 as got\n"
      ],
      "execution_count": null,
      "outputs": []
    },
    {
      "cell_type": "code",
      "metadata": {
        "id": "vZiX5VJDo_hE",
        "outputId": "9420b63d-a265-489b-c3fd-1d070edf0593",
        "colab": {
          "base_uri": "https://localhost:8080/",
          "height": 192
        }
      },
      "source": [
        "\n",
        "username = \"BarackObama\"\n",
        "text_query = \"Hello\"\n",
        "since_date = \"2011-01-01\"\n",
        "until_date = \"2016-12-20\"\n",
        "count = 150\n",
        " \n",
        "# Creation of tweetCriteria query object with methods to specify further\n",
        "tweetCriteria = got.manager.TweetCriteria().setUsername(username)\\\n",
        ".setQuerySearch(text_query).setSince(since_date)\\\n",
        ".setUntil(until_date).setMaxTweets(count)\n",
        " \n",
        "# Creation of tweets iterable containing all queried tweet data\n",
        "tweets = got.manager.TweetManager.getTweets(tweetCriteria)"
      ],
      "execution_count": null,
      "outputs": [
        {
          "output_type": "stream",
          "text": [
            "An error occured during an HTTP request: HTTP Error 404: Not Found\n",
            "Try to open in browser: https://twitter.com/search?q=Hello%20from%3Abarackobama%20since%3A2011-01-01%20until%3A2016-12-20&src=typd\n"
          ],
          "name": "stdout"
        },
        {
          "output_type": "error",
          "ename": "SystemExit",
          "evalue": "ignored",
          "traceback": [
            "An exception has occurred, use %tb to see the full traceback.\n",
            "\u001b[0;31mSystemExit\u001b[0m\n"
          ]
        },
        {
          "output_type": "stream",
          "text": [
            "/usr/local/lib/python3.6/dist-packages/IPython/core/interactiveshell.py:2890: UserWarning: To exit: use 'exit', 'quit', or Ctrl-D.\n",
            "  warn(\"To exit: use 'exit', 'quit', or Ctrl-D.\", stacklevel=1)\n"
          ],
          "name": "stderr"
        }
      ]
    },
    {
      "cell_type": "code",
      "metadata": {
        "id": "5TiD1MESpL3y",
        "outputId": "33b1d3e6-ec2c-4a2a-98b5-9c3b4a155009",
        "colab": {
          "base_uri": "https://localhost:8080/",
          "height": 192
        }
      },
      "source": [
        "tweetCriteria = got.manager.TweetCriteria().setUsername(\"barackobama\")\\\n",
        "                                           .setSince(\"2015-09-10\")\\\n",
        "                                           .setUntil(\"2016-01-01\")\\\n",
        "                                           .setMaxTweets(1)\\\n",
        "                                           .setEmoji(\"unicode\")\n",
        "tweet = got.manager.TweetManager.getTweets(tweetCriteria)[0]\n",
        "print(tweet.text)"
      ],
      "execution_count": null,
      "outputs": [
        {
          "output_type": "stream",
          "text": [
            "An error occured during an HTTP request: HTTP Error 404: Not Found\n",
            "Try to open in browser: https://twitter.com/search?q=%20from%3Abarackobama%20since%3A2015-09-10%20until%3A2016-01-01&src=typd\n"
          ],
          "name": "stdout"
        },
        {
          "output_type": "error",
          "ename": "SystemExit",
          "evalue": "ignored",
          "traceback": [
            "An exception has occurred, use %tb to see the full traceback.\n",
            "\u001b[0;31mSystemExit\u001b[0m\n"
          ]
        },
        {
          "output_type": "stream",
          "text": [
            "/usr/local/lib/python3.6/dist-packages/IPython/core/interactiveshell.py:2890: UserWarning: To exit: use 'exit', 'quit', or Ctrl-D.\n",
            "  warn(\"To exit: use 'exit', 'quit', or Ctrl-D.\", stacklevel=1)\n"
          ],
          "name": "stderr"
        }
      ]
    },
    {
      "cell_type": "markdown",
      "metadata": {
        "id": "7cF0F2MI05tL"
      },
      "source": [
        "# Summarization"
      ]
    },
    {
      "cell_type": "code",
      "metadata": {
        "id": "quQCQQ8a0_iB",
        "outputId": "39da68f9-0e5c-48d9-b7cd-b398c7221931",
        "colab": {
          "base_uri": "https://localhost:8080/",
          "height": 91
        }
      },
      "source": [
        "!pip install -U -q bert-extractive-summarizer\n",
        "!pip install -U -q spacy\n",
        "!pip install -U -q transformers==2.2.2\n",
        "!pip install -U -q neuralcoref"
      ],
      "execution_count": null,
      "outputs": [
        {
          "output_type": "stream",
          "text": [
            "\u001b[K     |████████████████████████████████| 10.0MB 2.7MB/s \n",
            "\u001b[K     |████████████████████████████████| 122kB 59.2MB/s \n",
            "\u001b[K     |████████████████████████████████| 3.7MB 48.3MB/s \n",
            "\u001b[K     |████████████████████████████████| 2.1MB 53.0MB/s \n",
            "\u001b[?25h"
          ],
          "name": "stdout"
        }
      ]
    },
    {
      "cell_type": "code",
      "metadata": {
        "id": "3hw7klbb1OQu",
        "outputId": "7df1c6b4-0a90-4e1a-e19a-e53aeb58d1e9",
        "colab": {
          "base_uri": "https://localhost:8080/",
          "height": 188,
          "referenced_widgets": [
            "92a22dd143624fc7bc2a6157d6258f39",
            "b484b248c80f43c2ae3186b2537043de",
            "1443b8be876c4fed8401b6d4e6a1ba1d",
            "edfc9889b3fe44a89de4b16f1dc80ad4",
            "613e7c4de5e54cf5b467f26030a32c36",
            "661082081345459d894848c4e8562f2b",
            "0a9898067df644fc95d3665727865fdb",
            "fcfb8ab29a904e7aad510b6fb049c188",
            "3f144fb55a164642a2c871d684734cd2",
            "56ca79f18740433ab04ac84710b643fc",
            "c36aad4b5151436c912d7ef11d8ef004",
            "f36232769f624e4caec24a95cc9bd34b",
            "9f45e43f981b405b9c29f1181309fb03",
            "75709756dea34b02976c9ace38c91b50",
            "20551fb9674c4de5aaf76ca2cae2f249",
            "00e9f0677a974ddaabcc7dc7c6de51eb",
            "411987eff5274507ad995819ad47292c",
            "3384c30769c74fd4a1a62e375f8b5b30",
            "c7907c16b87b4d459a90c443d7136758",
            "e72a8ab68e1e46cfb26c2d81200030a4",
            "27c5fbfa96c04327bdab51b4fbd61191",
            "0476c6afffcc4f9183dcb9f6a639ec7f",
            "1313fe647deb48c8b5d0e0428e263129",
            "3ccd2dd1c12b44a0aac6bc8dca45437e"
          ]
        }
      },
      "source": [
        "from summarizer import Summarizer\n",
        "\n",
        "body = 'Text body that you want to summarize with BERT'\n",
        "body2 = 'Something else you want to summarize with BERT'\n",
        "model = Summarizer()\n",
        "model(body)\n",
        "model(body2)"
      ],
      "execution_count": null,
      "outputs": [
        {
          "output_type": "display_data",
          "data": {
            "application/vnd.jupyter.widget-view+json": {
              "model_id": "92a22dd143624fc7bc2a6157d6258f39",
              "version_minor": 0,
              "version_major": 2
            },
            "text/plain": [
              "HBox(children=(FloatProgress(value=0.0, description='Downloading', max=434.0, style=ProgressStyle(description_…"
            ]
          },
          "metadata": {
            "tags": []
          }
        },
        {
          "output_type": "stream",
          "text": [
            "\n"
          ],
          "name": "stdout"
        },
        {
          "output_type": "display_data",
          "data": {
            "application/vnd.jupyter.widget-view+json": {
              "model_id": "3f144fb55a164642a2c871d684734cd2",
              "version_minor": 0,
              "version_major": 2
            },
            "text/plain": [
              "HBox(children=(FloatProgress(value=0.0, description='Downloading', max=1344997306.0, style=ProgressStyle(descr…"
            ]
          },
          "metadata": {
            "tags": []
          }
        },
        {
          "output_type": "stream",
          "text": [
            "\n"
          ],
          "name": "stdout"
        },
        {
          "output_type": "display_data",
          "data": {
            "application/vnd.jupyter.widget-view+json": {
              "model_id": "411987eff5274507ad995819ad47292c",
              "version_minor": 0,
              "version_major": 2
            },
            "text/plain": [
              "HBox(children=(FloatProgress(value=0.0, description='Downloading', max=231508.0, style=ProgressStyle(descripti…"
            ]
          },
          "metadata": {
            "tags": []
          }
        },
        {
          "output_type": "stream",
          "text": [
            "\n"
          ],
          "name": "stdout"
        },
        {
          "output_type": "execute_result",
          "data": {
            "application/vnd.google.colaboratory.intrinsic+json": {
              "type": "string"
            },
            "text/plain": [
              "'Something else you want to summarize with BERT'"
            ]
          },
          "metadata": {
            "tags": []
          },
          "execution_count": 4
        }
      ]
    },
    {
      "cell_type": "code",
      "metadata": {
        "id": "zxBL_3qZ100S",
        "outputId": "da10e03e-894f-4659-f6ed-4cefdedfdba6",
        "colab": {
          "base_uri": "https://localhost:8080/",
          "height": 73
        }
      },
      "source": [
        "body = \"Similarly, misinformation was widespread during the early years of the HIV epidemic. It too was plagued by conspiracy theories, rumours, and misinformation for many years, with the effects still visible in regions to this day. Many people continue to argue that HIV does not exist, or cause AIDS, and that its therapies are toxic to human health. All the arguments proposed by these deniers have been rebuked through a multitude of scientific publications and debate. Yet, they continue to persist. The influence of these false arguments can be so infectious that it can influence governmental policy, which has the potential to be fatal. This was particularly highlighted by the Mbeki South African government’s denialism of HIV in the early 2000s and their infamous rejection of the evidence surrounding the efficacy of HIV medication. In turn, thousands of mothers were denied access to antiretroviral therapies. Instead, the government promoted the unsubstantiated use of herbal remedies including garlic, beetroot, and lemon juice for AIDS treatment [2], leading to unnecessary HIV transmission, especially to children from pregnant mothers. This costs more than 300,000 lives [3]. It is important that we learn from past mistakes, and the media has a large role to play in this. It seems in a bid to increase viewership, major media organisations are creating dramatic headlines but are instead inciting panic amongst the public. Whilst healthcare professionals are still learning about the virus, the media has already begun to speculate about the potential health impact that the virus can have, and by publishing the potential worst effects of the virus, it only serves to fuel panic amongst the general public.\"\n",
        "\n",
        "model(body)"
      ],
      "execution_count": null,
      "outputs": [
        {
          "output_type": "execute_result",
          "data": {
            "application/vnd.google.colaboratory.intrinsic+json": {
              "type": "string"
            },
            "text/plain": [
              "'Similarly, misinformation was widespread during the early years of the HIV epidemic. Whilst healthcare professionals are still learning about the virus, the media has already begun to speculate about the potential health impact that the virus can have, and by publishing the potential worst effects of the virus, it only serves to fuel panic amongst the general public.'"
            ]
          },
          "metadata": {
            "tags": []
          },
          "execution_count": 8
        }
      ]
    },
    {
      "cell_type": "markdown",
      "metadata": {
        "id": "5tYjOSlk7LKO"
      },
      "source": [
        "# Twitter and JSON"
      ]
    },
    {
      "cell_type": "code",
      "metadata": {
        "id": "jzjcAthe9s3q"
      },
      "source": [
        "!pip install -U -q tweepy\n",
        "!pip install -U -q emoji "
      ],
      "execution_count": 3,
      "outputs": []
    },
    {
      "cell_type": "code",
      "metadata": {
        "id": "P7OSt6TA9wn7"
      },
      "source": [
        "import tweepy\n",
        "import pandas as pd"
      ],
      "execution_count": 8,
      "outputs": []
    },
    {
      "cell_type": "code",
      "metadata": {
        "id": "_Iq1Ko-C7M7Z"
      },
      "source": [
        "import json\n",
        "from requests_oauthlib import OAuth1Session\n",
        "\n",
        "api_key = \"h50aoVmiuNFuHI8o3dZE7C15N\" \n",
        "api_secret_key = \"Dz6jeUBUdGp43uJugObOgIqnVdCbUrbrkwkcjAibmlDQwq6sdL\" \n",
        "access_token = \"1311739853307027457-HqUEzNSGtzdFqkFDFmdYg5UcMEjPv2\" \n",
        "access_token_secret = \"iabmz6wZ0gucIodSNJ9TfSfnrT17yJXjDAu13y4QF8hLI\" \n",
        "twitter = OAuth1Session(api_key,\n",
        "                        client_secret=api_secret_key,\n",
        "                        resource_owner_key=access_token,\n",
        "                        resource_owner_secret=access_token_secret)"
      ],
      "execution_count": 102,
      "outputs": []
    },
    {
      "cell_type": "code",
      "metadata": {
        "id": "JZibL3uJ9iXY"
      },
      "source": [
        "auth = tweepy.OAuthHandler(api_key, api_secret_key)\n",
        "auth.set_access_token(access_token, access_token_secret)\n",
        "api = tweepy.API(auth,wait_on_rate_limit=True)"
      ],
      "execution_count": 104,
      "outputs": []
    },
    {
      "cell_type": "code",
      "metadata": {
        "id": "Y8EU2x9O-U_i"
      },
      "source": [
        "username = 'malditobulo'\n",
        "count = 1000\n",
        "language = \"es\"\n",
        "text_query = \"from:malditobulo coronavirus -filter:retweets\"\n",
        "\n",
        "\n",
        "try:     \n",
        " # Creation of query method using parameters\n",
        " tweets = tweepy.Cursor(api.search,id=username,\n",
        "                        q = text_query ,\n",
        "                        lang = language).items(count)\n",
        " \n",
        " # Pulling information from tweets iterable object\n",
        " tweets_list = [[tweet.user.screen_name,\n",
        "                 tweet.text,\n",
        "                 tweet.user.verified,  \n",
        "                 tweet.created_at, \n",
        "                 tweet.id, \n",
        "                 tweet.user.location,\n",
        "                 tweet.user.url\n",
        "                 ] for tweet in tweets]\n",
        " \n",
        " # Creation of dataframe from tweets list\n",
        " # Add or remove columns as you remove tweet information\n",
        " tweets_df = pd.DataFrame(tweets_list, columns = [\"screen_name\", \n",
        "                                                  \"text\", \"user_verified\", \n",
        "                                                  \"created_at\", \"tweet_id\", \n",
        "                                                  \"user_location\", \"user_url\"])\n",
        "\n",
        "except BaseException as e:\n",
        "      print('failed on_status,',str(e))\n",
        "      time.sleep(3)"
      ],
      "execution_count": 143,
      "outputs": []
    },
    {
      "cell_type": "code",
      "metadata": {
        "id": "I4RU2CiK-7Xr",
        "outputId": "58b977b1-8648-4912-d02d-cb3e041b0c05",
        "colab": {
          "base_uri": "https://localhost:8080/",
          "height": 1000
        }
      },
      "source": [
        "tweets_df[\"text\"] = tweets_df[\"text\"].apply(emoji.demojize)\n",
        "tweets_df"
      ],
      "execution_count": 144,
      "outputs": [
        {
          "output_type": "execute_result",
          "data": {
            "text/html": [
              "<div>\n",
              "<style scoped>\n",
              "    .dataframe tbody tr th:only-of-type {\n",
              "        vertical-align: middle;\n",
              "    }\n",
              "\n",
              "    .dataframe tbody tr th {\n",
              "        vertical-align: top;\n",
              "    }\n",
              "\n",
              "    .dataframe thead th {\n",
              "        text-align: right;\n",
              "    }\n",
              "</style>\n",
              "<table border=\"1\" class=\"dataframe\">\n",
              "  <thead>\n",
              "    <tr style=\"text-align: right;\">\n",
              "      <th></th>\n",
              "      <th>screen_name</th>\n",
              "      <th>text</th>\n",
              "      <th>user_verified</th>\n",
              "      <th>created_at</th>\n",
              "      <th>tweet_id</th>\n",
              "      <th>user_location</th>\n",
              "      <th>user_url</th>\n",
              "    </tr>\n",
              "  </thead>\n",
              "  <tbody>\n",
              "    <tr>\n",
              "      <th>0</th>\n",
              "      <td>malditobulo</td>\n",
              "      <td>:cross_mark::left-right_arrow: Por qué NO hay ...</td>\n",
              "      <td>True</td>\n",
              "      <td>2020-10-02 14:11:00</td>\n",
              "      <td>1312032340265361409</td>\n",
              "      <td>bulo@maldita.es</td>\n",
              "      <td>https://t.co/pLpQFrFfjZ</td>\n",
              "    </tr>\n",
              "    <tr>\n",
              "      <th>1</th>\n",
              "      <td>malditobulo</td>\n",
              "      <td>:cross_mark: El 'artículo' de la viróloga chin...</td>\n",
              "      <td>True</td>\n",
              "      <td>2020-09-30 18:22:00</td>\n",
              "      <td>1311370729254944776</td>\n",
              "      <td>bulo@maldita.es</td>\n",
              "      <td>https://t.co/pLpQFrFfjZ</td>\n",
              "    </tr>\n",
              "    <tr>\n",
              "      <th>2</th>\n",
              "      <td>malditobulo</td>\n",
              "      <td>:syringe::cross_mark: Del movimiento antivacun...</td>\n",
              "      <td>True</td>\n",
              "      <td>2020-09-30 17:40:04</td>\n",
              "      <td>1311360176579129345</td>\n",
              "      <td>bulo@maldita.es</td>\n",
              "      <td>https://t.co/pLpQFrFfjZ</td>\n",
              "    </tr>\n",
              "    <tr>\n",
              "      <th>3</th>\n",
              "      <td>malditobulo</td>\n",
              "      <td>:red_heart_selector: Cómo hablar con un ser qu...</td>\n",
              "      <td>True</td>\n",
              "      <td>2020-09-30 16:37:00</td>\n",
              "      <td>1311344306565902337</td>\n",
              "      <td>bulo@maldita.es</td>\n",
              "      <td>https://t.co/pLpQFrFfjZ</td>\n",
              "    </tr>\n",
              "    <tr>\n",
              "      <th>4</th>\n",
              "      <td>malditobulo</td>\n",
              "      <td>:cross_mark: 15 teorías conspiratorias que des...</td>\n",
              "      <td>True</td>\n",
              "      <td>2020-09-29 18:10:02</td>\n",
              "      <td>1311005331347120130</td>\n",
              "      <td>bulo@maldita.es</td>\n",
              "      <td>https://t.co/pLpQFrFfjZ</td>\n",
              "    </tr>\n",
              "    <tr>\n",
              "      <th>5</th>\n",
              "      <td>malditobulo</td>\n",
              "      <td>¿Has probado ya nuestro chatbot de Whatsapp? T...</td>\n",
              "      <td>True</td>\n",
              "      <td>2020-09-28 19:54:04</td>\n",
              "      <td>1310669123924434944</td>\n",
              "      <td>bulo@maldita.es</td>\n",
              "      <td>https://t.co/pLpQFrFfjZ</td>\n",
              "    </tr>\n",
              "    <tr>\n",
              "      <th>6</th>\n",
              "      <td>malditobulo</td>\n",
              "      <td>:cross_mark: NO hay evidencias de que el 5G ha...</td>\n",
              "      <td>True</td>\n",
              "      <td>2020-09-28 16:11:02</td>\n",
              "      <td>1310612994301325313</td>\n",
              "      <td>bulo@maldita.es</td>\n",
              "      <td>https://t.co/pLpQFrFfjZ</td>\n",
              "    </tr>\n",
              "    <tr>\n",
              "      <th>7</th>\n",
              "      <td>malditobulo</td>\n",
              "      <td>:cross_mark: NO hay evidencias de que el 5G ha...</td>\n",
              "      <td>True</td>\n",
              "      <td>2020-09-28 09:11:01</td>\n",
              "      <td>1310507292815699970</td>\n",
              "      <td>bulo@maldita.es</td>\n",
              "      <td>https://t.co/pLpQFrFfjZ</td>\n",
              "    </tr>\n",
              "    <tr>\n",
              "      <th>8</th>\n",
              "      <td>malditobulo</td>\n",
              "      <td>¿Has probado ya nuestro chatbot de Whatsapp? T...</td>\n",
              "      <td>True</td>\n",
              "      <td>2020-09-28 07:08:26</td>\n",
              "      <td>1310476443160371200</td>\n",
              "      <td>bulo@maldita.es</td>\n",
              "      <td>https://t.co/pLpQFrFfjZ</td>\n",
              "    </tr>\n",
              "    <tr>\n",
              "      <th>9</th>\n",
              "      <td>malditobulo</td>\n",
              "      <td>:cross_mark: 15 teorías conspiratorias que des...</td>\n",
              "      <td>True</td>\n",
              "      <td>2020-09-27 19:44:00</td>\n",
              "      <td>1310304202120482816</td>\n",
              "      <td>bulo@maldita.es</td>\n",
              "      <td>https://t.co/pLpQFrFfjZ</td>\n",
              "    </tr>\n",
              "    <tr>\n",
              "      <th>10</th>\n",
              "      <td>malditobulo</td>\n",
              "      <td>Te necesitamos más que nunca para luchar contr...</td>\n",
              "      <td>True</td>\n",
              "      <td>2020-09-27 18:01:00</td>\n",
              "      <td>1310278281078464512</td>\n",
              "      <td>bulo@maldita.es</td>\n",
              "      <td>https://t.co/pLpQFrFfjZ</td>\n",
              "    </tr>\n",
              "    <tr>\n",
              "      <th>11</th>\n",
              "      <td>malditobulo</td>\n",
              "      <td>:cross_mark: El 'artículo' de la viróloga chin...</td>\n",
              "      <td>True</td>\n",
              "      <td>2020-09-26 15:52:01</td>\n",
              "      <td>1309883431644532742</td>\n",
              "      <td>bulo@maldita.es</td>\n",
              "      <td>https://t.co/pLpQFrFfjZ</td>\n",
              "    </tr>\n",
              "    <tr>\n",
              "      <th>12</th>\n",
              "      <td>malditobulo</td>\n",
              "      <td>:cross_mark: No, Pedro Sánchez no ha dicho que...</td>\n",
              "      <td>True</td>\n",
              "      <td>2020-09-26 12:19:00</td>\n",
              "      <td>1309829826245726209</td>\n",
              "      <td>bulo@maldita.es</td>\n",
              "      <td>https://t.co/pLpQFrFfjZ</td>\n",
              "    </tr>\n",
              "    <tr>\n",
              "      <th>13</th>\n",
              "      <td>malditobulo</td>\n",
              "      <td>:syringe: Las vacunas del #coronavirus y de la...</td>\n",
              "      <td>True</td>\n",
              "      <td>2020-09-26 10:36:00</td>\n",
              "      <td>1309803906688524288</td>\n",
              "      <td>bulo@maldita.es</td>\n",
              "      <td>https://t.co/pLpQFrFfjZ</td>\n",
              "    </tr>\n",
              "    <tr>\n",
              "      <th>14</th>\n",
              "      <td>malditobulo</td>\n",
              "      <td>:cross_mark: No, no es cierto que todo el serv...</td>\n",
              "      <td>True</td>\n",
              "      <td>2020-09-26 08:52:00</td>\n",
              "      <td>1309777731744403457</td>\n",
              "      <td>bulo@maldita.es</td>\n",
              "      <td>https://t.co/pLpQFrFfjZ</td>\n",
              "    </tr>\n",
              "    <tr>\n",
              "      <th>15</th>\n",
              "      <td>malditobulo</td>\n",
              "      <td>:syringe: Las vacunas del #coronavirus y de la...</td>\n",
              "      <td>True</td>\n",
              "      <td>2020-09-25 16:40:03</td>\n",
              "      <td>1309533131674968064</td>\n",
              "      <td>bulo@maldita.es</td>\n",
              "      <td>https://t.co/pLpQFrFfjZ</td>\n",
              "    </tr>\n",
              "    <tr>\n",
              "      <th>16</th>\n",
              "      <td>malditobulo</td>\n",
              "      <td>:syringe: Las vacunas del #coronavirus y de la...</td>\n",
              "      <td>True</td>\n",
              "      <td>2020-09-25 09:20:17</td>\n",
              "      <td>1309422461096730624</td>\n",
              "      <td>bulo@maldita.es</td>\n",
              "      <td>https://t.co/pLpQFrFfjZ</td>\n",
              "    </tr>\n",
              "    <tr>\n",
              "      <th>17</th>\n",
              "      <td>malditobulo</td>\n",
              "      <td>:cross_mark: 15 teorías conspiratorias que des...</td>\n",
              "      <td>True</td>\n",
              "      <td>2020-09-24 19:11:00</td>\n",
              "      <td>1309208732543471616</td>\n",
              "      <td>bulo@maldita.es</td>\n",
              "      <td>https://t.co/pLpQFrFfjZ</td>\n",
              "    </tr>\n",
              "    <tr>\n",
              "      <th>18</th>\n",
              "      <td>malditobulo</td>\n",
              "      <td>:cross_mark: Bulos y datos sobre los asintomát...</td>\n",
              "      <td>True</td>\n",
              "      <td>2020-09-24 14:11:00</td>\n",
              "      <td>1309133237122469889</td>\n",
              "      <td>bulo@maldita.es</td>\n",
              "      <td>https://t.co/pLpQFrFfjZ</td>\n",
              "    </tr>\n",
              "    <tr>\n",
              "      <th>19</th>\n",
              "      <td>malditobulo</td>\n",
              "      <td>:cross_mark: 15 teorías conspiratorias que des...</td>\n",
              "      <td>True</td>\n",
              "      <td>2020-09-24 11:44:07</td>\n",
              "      <td>1309096271479742465</td>\n",
              "      <td>bulo@maldita.es</td>\n",
              "      <td>https://t.co/pLpQFrFfjZ</td>\n",
              "    </tr>\n",
              "    <tr>\n",
              "      <th>20</th>\n",
              "      <td>malditobulo</td>\n",
              "      <td>:cross_mark: Bulos y datos sobre los asintomát...</td>\n",
              "      <td>True</td>\n",
              "      <td>2020-09-24 05:35:00</td>\n",
              "      <td>1309003381638402054</td>\n",
              "      <td>bulo@maldita.es</td>\n",
              "      <td>https://t.co/pLpQFrFfjZ</td>\n",
              "    </tr>\n",
              "  </tbody>\n",
              "</table>\n",
              "</div>"
            ],
            "text/plain": [
              "    screen_name  ...                 user_url\n",
              "0   malditobulo  ...  https://t.co/pLpQFrFfjZ\n",
              "1   malditobulo  ...  https://t.co/pLpQFrFfjZ\n",
              "2   malditobulo  ...  https://t.co/pLpQFrFfjZ\n",
              "3   malditobulo  ...  https://t.co/pLpQFrFfjZ\n",
              "4   malditobulo  ...  https://t.co/pLpQFrFfjZ\n",
              "5   malditobulo  ...  https://t.co/pLpQFrFfjZ\n",
              "6   malditobulo  ...  https://t.co/pLpQFrFfjZ\n",
              "7   malditobulo  ...  https://t.co/pLpQFrFfjZ\n",
              "8   malditobulo  ...  https://t.co/pLpQFrFfjZ\n",
              "9   malditobulo  ...  https://t.co/pLpQFrFfjZ\n",
              "10  malditobulo  ...  https://t.co/pLpQFrFfjZ\n",
              "11  malditobulo  ...  https://t.co/pLpQFrFfjZ\n",
              "12  malditobulo  ...  https://t.co/pLpQFrFfjZ\n",
              "13  malditobulo  ...  https://t.co/pLpQFrFfjZ\n",
              "14  malditobulo  ...  https://t.co/pLpQFrFfjZ\n",
              "15  malditobulo  ...  https://t.co/pLpQFrFfjZ\n",
              "16  malditobulo  ...  https://t.co/pLpQFrFfjZ\n",
              "17  malditobulo  ...  https://t.co/pLpQFrFfjZ\n",
              "18  malditobulo  ...  https://t.co/pLpQFrFfjZ\n",
              "19  malditobulo  ...  https://t.co/pLpQFrFfjZ\n",
              "20  malditobulo  ...  https://t.co/pLpQFrFfjZ\n",
              "\n",
              "[21 rows x 7 columns]"
            ]
          },
          "metadata": {
            "tags": []
          },
          "execution_count": 144
        }
      ]
    },
    {
      "cell_type": "code",
      "metadata": {
        "id": "bGimJXqdPq5C",
        "outputId": "765ec444-de97-441a-f468-e9d5b77cb202",
        "colab": {
          "base_uri": "https://localhost:8080/",
          "height": 55
        }
      },
      "source": [
        "from datetime import date\n",
        "\n",
        "today = date.today()\n",
        "print(\"Today's date:\", today)\n",
        "str(today)"
      ],
      "execution_count": 145,
      "outputs": [
        {
          "output_type": "stream",
          "text": [
            "Today's date: 2020-10-02\n"
          ],
          "name": "stdout"
        },
        {
          "output_type": "execute_result",
          "data": {
            "application/vnd.google.colaboratory.intrinsic+json": {
              "type": "string"
            },
            "text/plain": [
              "'2020-10-02'"
            ]
          },
          "metadata": {
            "tags": []
          },
          "execution_count": 145
        }
      ]
    },
    {
      "cell_type": "code",
      "metadata": {
        "id": "etrk2G2TPd0v"
      },
      "source": [
        "tweets_df.to_json(\"maltida-\"+str(today)+\".json\")"
      ],
      "execution_count": 146,
      "outputs": []
    },
    {
      "cell_type": "code",
      "metadata": {
        "id": "vDLboUylP27x",
        "outputId": "273c483d-8f6b-43c6-8403-da02d3b73772",
        "colab": {
          "base_uri": "https://localhost:8080/",
          "height": 54
        }
      },
      "source": [
        "!ls "
      ],
      "execution_count": 147,
      "outputs": [
        {
          "output_type": "stream",
          "text": [
            "adc.json\t\t maltida-2020-10-02.json  sample_data\n",
            "maltida-2020-10-02_json  maltida2020-10-02_json\n"
          ],
          "name": "stdout"
        }
      ]
    },
    {
      "cell_type": "markdown",
      "metadata": {
        "id": "0wp9b3cbQe77"
      },
      "source": [
        "# Uploading"
      ]
    },
    {
      "cell_type": "code",
      "metadata": {
        "id": "yjSf3Xo8QDv_",
        "outputId": "a134309b-fd25-4038-c7ec-af2bff5f9aff",
        "colab": {
          "base_uri": "https://localhost:8080/",
          "height": 35
        }
      },
      "source": [
        "# Import PyDrive and associated libraries.\n",
        "# This only needs to be done once in a notebook.\n",
        "from pydrive.auth import GoogleAuth\n",
        "from pydrive.drive import GoogleDrive\n",
        "from google.colab import auth\n",
        "from oauth2client.client import GoogleCredentials\n",
        "\n",
        "# Authenticate and create the PyDrive client.\n",
        "# This only needs to be done once in a notebook.\n",
        "auth.authenticate_user()\n",
        "gauth = GoogleAuth()\n",
        "gauth.credentials = GoogleCredentials.get_application_default()\n",
        "drive = GoogleDrive(gauth)\n",
        "\n",
        "# Create & upload a text file.\n",
        "uploaded = drive.CreateFile({'title': 'maltida-2020-10-02.json '})\n",
        "uploaded.SetContentFile(\"maltida-2020-10-02.json\")\n",
        "uploaded.Upload()\n",
        "print('Uploaded file with ID {}'.format(uploaded.get('id')))"
      ],
      "execution_count": 148,
      "outputs": [
        {
          "output_type": "stream",
          "text": [
            "Uploaded file with ID 1DEtWAvow7Qhsk_QKouIkZpSiVT1LjELP\n"
          ],
          "name": "stdout"
        }
      ]
    }
  ]
}