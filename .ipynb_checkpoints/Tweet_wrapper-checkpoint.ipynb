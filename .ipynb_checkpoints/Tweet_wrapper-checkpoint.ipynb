{
 "cells": [
  {
   "cell_type": "code",
   "execution_count": 80,
   "metadata": {},
   "outputs": [
    {
     "name": "stdout",
     "output_type": "stream",
     "text": [
      "Requirement already up-to-date: PyGithub in /home/huertas/anaconda3/lib/python3.8/site-packages (1.53)\r\n",
      "Requirement already satisfied, skipping upgrade: deprecated in /home/huertas/anaconda3/lib/python3.8/site-packages (from PyGithub) (1.2.10)\r\n",
      "Requirement already satisfied, skipping upgrade: requests>=2.14.0 in /home/huertas/anaconda3/lib/python3.8/site-packages (from PyGithub) (2.21.0)\r\n",
      "Requirement already satisfied, skipping upgrade: pyjwt in /home/huertas/anaconda3/lib/python3.8/site-packages (from PyGithub) (1.7.1)\r\n",
      "Requirement already satisfied, skipping upgrade: wrapt<2,>=1.10 in /home/huertas/anaconda3/lib/python3.8/site-packages (from deprecated->PyGithub) (1.11.2)\r\n",
      "Requirement already satisfied, skipping upgrade: chardet<3.1.0,>=3.0.2 in /home/huertas/anaconda3/lib/python3.8/site-packages (from requests>=2.14.0->PyGithub) (3.0.4)\r\n",
      "Requirement already satisfied, skipping upgrade: idna<2.9,>=2.5 in /home/huertas/anaconda3/lib/python3.8/site-packages (from requests>=2.14.0->PyGithub) (2.8)\r\n",
      "Requirement already satisfied, skipping upgrade: certifi>=2017.4.17 in /home/huertas/anaconda3/lib/python3.8/site-packages (from requests>=2.14.0->PyGithub) (2020.6.20)\r\n",
      "Requirement already satisfied, skipping upgrade: urllib3<1.25,>=1.21.1 in /home/huertas/anaconda3/lib/python3.8/site-packages (from requests>=2.14.0->PyGithub) (1.24.3)\r\n"
     ]
    }
   ],
   "source": [
    "# !pip install -U -q tweepy\n",
    "# !pip install -U -q emoji\n",
    "# pip install PyGithub\n",
    "!pip install -U PyGithub"
   ]
  },
  {
   "cell_type": "code",
   "execution_count": 14,
   "metadata": {},
   "outputs": [],
   "source": [
    "import tweepy\n",
    "import pandas as pd\n",
    "import json\n",
    "from requests_oauthlib import OAuth1Session\n",
    "import time\n",
    "from datetime import date\n",
    "import emoji"
   ]
  },
  {
   "cell_type": "code",
   "execution_count": 6,
   "metadata": {},
   "outputs": [],
   "source": [
    "api_key = \"h50aoVmiuNFuHI8o3dZE7C15N\" \n",
    "api_secret_key = \"Dz6jeUBUdGp43uJugObOgIqnVdCbUrbrkwkcjAibmlDQwq6sdL\" \n",
    "access_token = \"1311739853307027457-HqUEzNSGtzdFqkFDFmdYg5UcMEjPv2\" \n",
    "access_token_secret = \"iabmz6wZ0gucIodSNJ9TfSfnrT17yJXjDAu13y4QF8hLI\" "
   ]
  },
  {
   "cell_type": "code",
   "execution_count": 7,
   "metadata": {},
   "outputs": [],
   "source": [
    "twitter = OAuth1Session(api_key,\n",
    "                        client_secret=api_secret_key,\n",
    "                        resource_owner_key=access_token,\n",
    "                        resource_owner_secret=access_token_secret)\n",
    "\n",
    "auth = tweepy.OAuthHandler(api_key, api_secret_key)\n",
    "auth.set_access_token(access_token, access_token_secret)\n",
    "api = tweepy.API(auth,wait_on_rate_limit=True)"
   ]
  },
  {
   "cell_type": "code",
   "execution_count": 59,
   "metadata": {},
   "outputs": [],
   "source": [
    "# username = 'malditobulo' No__Plandemia Solo__Verdad ANTIMASCARILLA FoxMuld88326271 #Plandemia SaludPublicaEs sanidadgob eldiarioes andaluciadatos\n",
    "# maldita_ciencia opsoms bbcmundo Chequeado JustiaLatinAmer 14ymedio PericoAFuego DiegoMo53772865 WHO el_pais\n",
    "count = 3\n",
    "language = \"es\"\n",
    "user_name = \"maldita_ciencia\"\n",
    "text_query = \"from:\"+user_name  #  -filter:retweets\n",
    "\n",
    "\n",
    "try:     \n",
    "    # Creation of query method using parameters\n",
    "    tweets = tweepy.Cursor(api.search,\n",
    "                        q = text_query ,\n",
    "                        lang = language).items(count)\n",
    "\n",
    "    # Pulling information from tweets iterable object\n",
    "    tweets_list = [[tweet.user.screen_name,\n",
    "                 tweet.text,\n",
    "                 tweet.user.verified,  \n",
    "                 tweet.created_at, \n",
    "                 tweet.id, \n",
    "                 tweet.user.location,\n",
    "                 tweet.user.url\n",
    "                 ] for tweet in tweets]\n",
    "    # Creation of dataframe from tweets list\n",
    "    # Add or remove columns as you remove tweet information\n",
    "    tweets_df = pd.DataFrame(tweets_list, columns = [\"screen_name\", \n",
    "                                                  \"text\", \"user_verified\", \n",
    "                                                  \"created_at\", \"tweet_id\", \n",
    "                                                  \"user_location\", \"user_url\"])\n",
    "\n",
    "except BaseException as e:\n",
    "    print('failed on_status,',str(e))\n",
    "    time.sleep(3)\n",
    "\n",
    "tweets_df[\"text\"] = tweets_df[\"text\"].apply(emoji.demojize)\n",
    "\n",
    "from datetime import date\n",
    "today = date.today()\n",
    "\n",
    "file_name = user_name+\"-\"+str(today)+\".json\"\n",
    "tweets_df.to_json(file_name)"
   ]
  },
  {
   "cell_type": "code",
   "execution_count": 60,
   "metadata": {},
   "outputs": [],
   "source": [
    "!mkdir -p ./tweets/{today}/{user_name}{today}\n",
    "!mv {file_name} ./tweets/{today}/{user_name}{today}"
   ]
  },
  {
   "cell_type": "code",
   "execution_count": 69,
   "metadata": {},
   "outputs": [],
   "source": [
    "from github import GitHub"
   ]
  },
  {
   "cell_type": "code",
   "execution_count": 68,
   "metadata": {},
   "outputs": [],
   "source": [
    "import github\n"
   ]
  },
  {
   "cell_type": "code",
   "execution_count": 73,
   "metadata": {},
   "outputs": [
    {
     "ename": "ImportError",
     "evalue": "cannot import name 'Github' from 'github' (/home/huertas/anaconda3/lib/python3.8/site-packages/github/__init__.py)",
     "output_type": "error",
     "traceback": [
      "\u001b[0;31m---------------------------------------------------------------------------\u001b[0m",
      "\u001b[0;31mImportError\u001b[0m                               Traceback (most recent call last)",
      "\u001b[0;32m<ipython-input-73-f2aaf9dce084>\u001b[0m in \u001b[0;36m<module>\u001b[0;34m\u001b[0m\n\u001b[0;32m----> 1\u001b[0;31m \u001b[0;32mfrom\u001b[0m \u001b[0mgithub\u001b[0m \u001b[0;32mimport\u001b[0m \u001b[0mGithub\u001b[0m\u001b[0;34m\u001b[0m\u001b[0;34m\u001b[0m\u001b[0m\n\u001b[0m\u001b[1;32m      2\u001b[0m \u001b[0;32mfrom\u001b[0m \u001b[0mgithub\u001b[0m \u001b[0;32mimport\u001b[0m \u001b[0mInputGitTreeElement\u001b[0m\u001b[0;34m\u001b[0m\u001b[0;34m\u001b[0m\u001b[0m\n",
      "\u001b[0;31mImportError\u001b[0m: cannot import name 'Github' from 'github' (/home/huertas/anaconda3/lib/python3.8/site-packages/github/__init__.py)"
     ]
    }
   ],
   "source": [
    "from github import Github\n",
    "from github import InputGitTreeElement"
   ]
  },
  {
   "cell_type": "code",
   "execution_count": 76,
   "metadata": {},
   "outputs": [
    {
     "ename": "ImportError",
     "evalue": "cannot import name 'Github' from 'github' (/home/huertas/anaconda3/lib/python3.8/site-packages/github/__init__.py)",
     "output_type": "error",
     "traceback": [
      "\u001b[0;31m---------------------------------------------------------------------------\u001b[0m",
      "\u001b[0;31mImportError\u001b[0m                               Traceback (most recent call last)",
      "\u001b[0;32m<ipython-input-76-7c855228f3ce>\u001b[0m in \u001b[0;36m<module>\u001b[0;34m\u001b[0m\n\u001b[0;32m----> 1\u001b[0;31m \u001b[0;32mfrom\u001b[0m \u001b[0mgithub\u001b[0m \u001b[0;32mimport\u001b[0m \u001b[0mGithub\u001b[0m\u001b[0;34m\u001b[0m\u001b[0;34m\u001b[0m\u001b[0m\n\u001b[0m",
      "\u001b[0;31mImportError\u001b[0m: cannot import name 'Github' from 'github' (/home/huertas/anaconda3/lib/python3.8/site-packages/github/__init__.py)"
     ]
    }
   ],
   "source": [
    "from github import Github"
   ]
  },
  {
   "cell_type": "code",
   "execution_count": 78,
   "metadata": {},
   "outputs": [
    {
     "name": "stdout",
     "output_type": "stream",
     "text": [
      "Requirement already satisfied: PyGithub in /home/huertas/anaconda3/lib/python3.8/site-packages (1.53)\n",
      "Requirement already satisfied: deprecated in /home/huertas/anaconda3/lib/python3.8/site-packages (from PyGithub) (1.2.10)\n",
      "Requirement already satisfied: pyjwt in /home/huertas/anaconda3/lib/python3.8/site-packages (from PyGithub) (1.7.1)\n",
      "Requirement already satisfied: requests>=2.14.0 in /home/huertas/anaconda3/lib/python3.8/site-packages (from PyGithub) (2.21.0)\n",
      "Requirement already satisfied: wrapt<2,>=1.10 in /home/huertas/anaconda3/lib/python3.8/site-packages (from deprecated->PyGithub) (1.11.2)\n",
      "Requirement already satisfied: urllib3<1.25,>=1.21.1 in /home/huertas/anaconda3/lib/python3.8/site-packages (from requests>=2.14.0->PyGithub) (1.24.3)\n",
      "Requirement already satisfied: chardet<3.1.0,>=3.0.2 in /home/huertas/anaconda3/lib/python3.8/site-packages (from requests>=2.14.0->PyGithub) (3.0.4)\n",
      "Requirement already satisfied: certifi>=2017.4.17 in /home/huertas/anaconda3/lib/python3.8/site-packages (from requests>=2.14.0->PyGithub) (2020.6.20)\n",
      "Requirement already satisfied: idna<2.9,>=2.5 in /home/huertas/anaconda3/lib/python3.8/site-packages (from requests>=2.14.0->PyGithub) (2.8)\n"
     ]
    }
   ],
   "source": [
    "!pip install PyGithub"
   ]
  },
  {
   "cell_type": "code",
   "execution_count": 81,
   "metadata": {},
   "outputs": [
    {
     "ename": "ImportError",
     "evalue": "cannot import name 'Github' from 'github' (/home/huertas/anaconda3/lib/python3.8/site-packages/github/__init__.py)",
     "output_type": "error",
     "traceback": [
      "\u001b[0;31m---------------------------------------------------------------------------\u001b[0m",
      "\u001b[0;31mImportError\u001b[0m                               Traceback (most recent call last)",
      "\u001b[0;32m<ipython-input-81-7c855228f3ce>\u001b[0m in \u001b[0;36m<module>\u001b[0;34m\u001b[0m\n\u001b[0;32m----> 1\u001b[0;31m \u001b[0;32mfrom\u001b[0m \u001b[0mgithub\u001b[0m \u001b[0;32mimport\u001b[0m \u001b[0mGithub\u001b[0m\u001b[0;34m\u001b[0m\u001b[0;34m\u001b[0m\u001b[0m\n\u001b[0m",
      "\u001b[0;31mImportError\u001b[0m: cannot import name 'Github' from 'github' (/home/huertas/anaconda3/lib/python3.8/site-packages/github/__init__.py)"
     ]
    }
   ],
   "source": [
    "from github import Github"
   ]
  },
  {
   "cell_type": "code",
   "execution_count": 82,
   "metadata": {},
   "outputs": [
    {
     "name": "stdout",
     "output_type": "stream",
     "text": [
      "Requirement already satisfied: PyGithub in /home/huertas/anaconda3/lib/python3.8/site-packages (1.53)\n",
      "Requirement already satisfied: requests in /home/huertas/anaconda3/lib/python3.8/site-packages (2.21.0)\n",
      "Requirement already satisfied: pyjwt in /home/huertas/anaconda3/lib/python3.8/site-packages (from PyGithub) (1.7.1)\n",
      "Requirement already satisfied: deprecated in /home/huertas/anaconda3/lib/python3.8/site-packages (from PyGithub) (1.2.10)\n",
      "Requirement already satisfied: urllib3<1.25,>=1.21.1 in /home/huertas/anaconda3/lib/python3.8/site-packages (from requests) (1.24.3)\n",
      "Requirement already satisfied: idna<2.9,>=2.5 in /home/huertas/anaconda3/lib/python3.8/site-packages (from requests) (2.8)\n",
      "Requirement already satisfied: certifi>=2017.4.17 in /home/huertas/anaconda3/lib/python3.8/site-packages (from requests) (2020.6.20)\n",
      "Requirement already satisfied: chardet<3.1.0,>=3.0.2 in /home/huertas/anaconda3/lib/python3.8/site-packages (from requests) (3.0.4)\n",
      "Requirement already satisfied: wrapt<2,>=1.10 in /home/huertas/anaconda3/lib/python3.8/site-packages (from deprecated->PyGithub) (1.11.2)\n"
     ]
    }
   ],
   "source": [
    "!pip install PyGithub requests"
   ]
  },
  {
   "cell_type": "code",
   "execution_count": 84,
   "metadata": {},
   "outputs": [
    {
     "ename": "ImportError",
     "evalue": "cannot import name 'Github' from 'github' (/home/huertas/anaconda3/lib/python3.8/site-packages/github/__init__.py)",
     "output_type": "error",
     "traceback": [
      "\u001b[0;31m---------------------------------------------------------------------------\u001b[0m",
      "\u001b[0;31mImportError\u001b[0m                               Traceback (most recent call last)",
      "\u001b[0;32m<ipython-input-84-473c409f9280>\u001b[0m in \u001b[0;36m<module>\u001b[0;34m\u001b[0m\n\u001b[0;32m----> 1\u001b[0;31m \u001b[0;32mfrom\u001b[0m \u001b[0mgithub\u001b[0m \u001b[0;32mimport\u001b[0m \u001b[0mGithub\u001b[0m\u001b[0;34m\u001b[0m\u001b[0;34m\u001b[0m\u001b[0m\n\u001b[0m\u001b[1;32m      2\u001b[0m \u001b[0;32mimport\u001b[0m \u001b[0mos\u001b[0m\u001b[0;34m\u001b[0m\u001b[0;34m\u001b[0m\u001b[0m\n\u001b[1;32m      3\u001b[0m \u001b[0;32mfrom\u001b[0m \u001b[0mpprint\u001b[0m \u001b[0;32mimport\u001b[0m \u001b[0mpprint\u001b[0m\u001b[0;34m\u001b[0m\u001b[0;34m\u001b[0m\u001b[0m\n",
      "\u001b[0;31mImportError\u001b[0m: cannot import name 'Github' from 'github' (/home/huertas/anaconda3/lib/python3.8/site-packages/github/__init__.py)"
     ]
    }
   ],
   "source": [
    "from github import Github\n",
    "import os\n",
    "from pprint import pprint"
   ]
  },
  {
   "cell_type": "code",
   "execution_count": null,
   "metadata": {},
   "outputs": [],
   "source": []
  }
 ],
 "metadata": {
  "kernelspec": {
   "display_name": "Python 3",
   "language": "python",
   "name": "python3"
  },
  "language_info": {
   "codemirror_mode": {
    "name": "ipython",
    "version": 3
   },
   "file_extension": ".py",
   "mimetype": "text/x-python",
   "name": "python",
   "nbconvert_exporter": "python",
   "pygments_lexer": "ipython3",
   "version": "3.8.3"
  }
 },
 "nbformat": 4,
 "nbformat_minor": 4
}
